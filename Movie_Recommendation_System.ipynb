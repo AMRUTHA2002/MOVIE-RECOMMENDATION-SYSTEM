{
 "cells": [
  {
   "cell_type": "markdown",
   "metadata": {
    "id": "gScHkw6jjrLo"
   },
   "source": [
    "# <center> MOVIE RECOMMENDATION SYSTEM"
   ]
  },
  {
   "cell_type": "markdown",
   "metadata": {
    "id": "Xns_rCdhh-vZ"
   },
   "source": [
    "## **Objective**"
   ]
  },
  {
   "cell_type": "markdown",
   "metadata": {
    "id": "9sPvnFM1iI9l"
   },
   "source": [
    "Recommendation system is a system that filters preferences according user's choices. Reccomedation systems are used in variety of areas.The system aims to enhance the user's movie-watching experience by suggesting films they are likely to enjoy. "
   ]
  },
  {
   "cell_type": "markdown",
   "metadata": {
    "id": "r7GrZzX0iTlV"
   },
   "source": [
    "## **Import Library**"
   ]
  },
  {
   "cell_type": "code",
   "execution_count": 1,
   "metadata": {
    "id": "UkK6NH9DiW-X"
   },
   "outputs": [],
   "source": [
    "import pandas as pd\n",
    "import numpy as np"
   ]
  },
  {
   "cell_type": "markdown",
   "metadata": {
    "id": "9lHPQj1XiOUc"
   },
   "source": [
    "## **Import Data**"
   ]
  },
  {
   "cell_type": "code",
   "execution_count": 4,
   "metadata": {
    "id": "zcU1fdnGho6M"
   },
   "outputs": [
    {
     "data": {
      "text/html": [
       "<div>\n",
       "<style scoped>\n",
       "    .dataframe tbody tr th:only-of-type {\n",
       "        vertical-align: middle;\n",
       "    }\n",
       "\n",
       "    .dataframe tbody tr th {\n",
       "        vertical-align: top;\n",
       "    }\n",
       "\n",
       "    .dataframe thead th {\n",
       "        text-align: right;\n",
       "    }\n",
       "</style>\n",
       "<table border=\"1\" class=\"dataframe\">\n",
       "  <thead>\n",
       "    <tr style=\"text-align: right;\">\n",
       "      <th></th>\n",
       "      <th>Movie_ID</th>\n",
       "      <th>Movie_Title</th>\n",
       "      <th>Movie_Genre</th>\n",
       "      <th>Movie_Language</th>\n",
       "      <th>Movie_Budget</th>\n",
       "      <th>Movie_Popularity</th>\n",
       "      <th>Movie_Release_Date</th>\n",
       "      <th>Movie_Revenue</th>\n",
       "      <th>Movie_Runtime</th>\n",
       "      <th>Movie_Vote</th>\n",
       "      <th>...</th>\n",
       "      <th>Movie_Homepage</th>\n",
       "      <th>Movie_Keywords</th>\n",
       "      <th>Movie_Overview</th>\n",
       "      <th>Movie_Production_House</th>\n",
       "      <th>Movie_Production_Country</th>\n",
       "      <th>Movie_Spoken_Language</th>\n",
       "      <th>Movie_Tagline</th>\n",
       "      <th>Movie_Cast</th>\n",
       "      <th>Movie_Crew</th>\n",
       "      <th>Movie_Director</th>\n",
       "    </tr>\n",
       "  </thead>\n",
       "  <tbody>\n",
       "    <tr>\n",
       "      <th>0</th>\n",
       "      <td>1</td>\n",
       "      <td>Four Rooms</td>\n",
       "      <td>Crime Comedy</td>\n",
       "      <td>en</td>\n",
       "      <td>4000000</td>\n",
       "      <td>22.876230</td>\n",
       "      <td>09-12-1995</td>\n",
       "      <td>4300000</td>\n",
       "      <td>98.0</td>\n",
       "      <td>6.5</td>\n",
       "      <td>...</td>\n",
       "      <td>NaN</td>\n",
       "      <td>hotel new year's eve witch bet hotel room</td>\n",
       "      <td>It's Ted the Bellhop's first night on the job....</td>\n",
       "      <td>[{\"name\": \"Miramax Films\", \"id\": 14}, {\"name\":...</td>\n",
       "      <td>[{\"iso_3166_1\": \"US\", \"name\": \"United States o...</td>\n",
       "      <td>[{\"iso_639_1\": \"en\", \"name\": \"English\"}]</td>\n",
       "      <td>Twelve outrageous guests. Four scandalous requ...</td>\n",
       "      <td>Tim Roth Antonio Banderas Jennifer Beals Madon...</td>\n",
       "      <td>[{'name': 'Allison Anders', 'gender': 1, 'depa...</td>\n",
       "      <td>Allison Anders</td>\n",
       "    </tr>\n",
       "    <tr>\n",
       "      <th>1</th>\n",
       "      <td>2</td>\n",
       "      <td>Star Wars</td>\n",
       "      <td>Adventure Action Science Fiction</td>\n",
       "      <td>en</td>\n",
       "      <td>11000000</td>\n",
       "      <td>126.393695</td>\n",
       "      <td>25-05-1977</td>\n",
       "      <td>775398007</td>\n",
       "      <td>121.0</td>\n",
       "      <td>8.1</td>\n",
       "      <td>...</td>\n",
       "      <td>http://www.starwars.com/films/star-wars-episod...</td>\n",
       "      <td>android galaxy hermit death star lightsaber</td>\n",
       "      <td>Princess Leia is captured and held hostage by ...</td>\n",
       "      <td>[{\"name\": \"Lucasfilm\", \"id\": 1}, {\"name\": \"Twe...</td>\n",
       "      <td>[{\"iso_3166_1\": \"US\", \"name\": \"United States o...</td>\n",
       "      <td>[{\"iso_639_1\": \"en\", \"name\": \"English\"}]</td>\n",
       "      <td>A long time ago in a galaxy far, far away...</td>\n",
       "      <td>Mark Hamill Harrison Ford Carrie Fisher Peter ...</td>\n",
       "      <td>[{'name': 'George Lucas', 'gender': 2, 'depart...</td>\n",
       "      <td>George Lucas</td>\n",
       "    </tr>\n",
       "    <tr>\n",
       "      <th>2</th>\n",
       "      <td>3</td>\n",
       "      <td>Finding Nemo</td>\n",
       "      <td>Animation Family</td>\n",
       "      <td>en</td>\n",
       "      <td>94000000</td>\n",
       "      <td>85.688789</td>\n",
       "      <td>30-05-2003</td>\n",
       "      <td>940335536</td>\n",
       "      <td>100.0</td>\n",
       "      <td>7.6</td>\n",
       "      <td>...</td>\n",
       "      <td>http://movies.disney.com/finding-nemo</td>\n",
       "      <td>father son relationship harbor underwater fish...</td>\n",
       "      <td>Nemo, an adventurous young clownfish, is unexp...</td>\n",
       "      <td>[{\"name\": \"Pixar Animation Studios\", \"id\": 3}]</td>\n",
       "      <td>[{\"iso_3166_1\": \"US\", \"name\": \"United States o...</td>\n",
       "      <td>[{\"iso_639_1\": \"en\", \"name\": \"English\"}]</td>\n",
       "      <td>There are 3.7 trillion fish in the ocean, they...</td>\n",
       "      <td>Albert Brooks Ellen DeGeneres Alexander Gould ...</td>\n",
       "      <td>[{'name': 'Andrew Stanton', 'gender': 2, 'depa...</td>\n",
       "      <td>Andrew Stanton</td>\n",
       "    </tr>\n",
       "    <tr>\n",
       "      <th>3</th>\n",
       "      <td>4</td>\n",
       "      <td>Forrest Gump</td>\n",
       "      <td>Comedy Drama Romance</td>\n",
       "      <td>en</td>\n",
       "      <td>55000000</td>\n",
       "      <td>138.133331</td>\n",
       "      <td>06-07-1994</td>\n",
       "      <td>677945399</td>\n",
       "      <td>142.0</td>\n",
       "      <td>8.2</td>\n",
       "      <td>...</td>\n",
       "      <td>NaN</td>\n",
       "      <td>vietnam veteran hippie mentally disabled runni...</td>\n",
       "      <td>A man with a low IQ has accomplished great thi...</td>\n",
       "      <td>[{\"name\": \"Paramount Pictures\", \"id\": 4}]</td>\n",
       "      <td>[{\"iso_3166_1\": \"US\", \"name\": \"United States o...</td>\n",
       "      <td>[{\"iso_639_1\": \"en\", \"name\": \"English\"}]</td>\n",
       "      <td>The world will never be the same, once you've ...</td>\n",
       "      <td>Tom Hanks Robin Wright Gary Sinise Mykelti Wil...</td>\n",
       "      <td>[{'name': 'Alan Silvestri', 'gender': 2, 'depa...</td>\n",
       "      <td>Robert Zemeckis</td>\n",
       "    </tr>\n",
       "    <tr>\n",
       "      <th>4</th>\n",
       "      <td>5</td>\n",
       "      <td>American Beauty</td>\n",
       "      <td>Drama</td>\n",
       "      <td>en</td>\n",
       "      <td>15000000</td>\n",
       "      <td>80.878605</td>\n",
       "      <td>15-09-1999</td>\n",
       "      <td>356296601</td>\n",
       "      <td>122.0</td>\n",
       "      <td>7.9</td>\n",
       "      <td>...</td>\n",
       "      <td>http://www.dreamworks.com/ab/</td>\n",
       "      <td>male nudity female nudity adultery midlife cri...</td>\n",
       "      <td>Lester Burnham, a depressed suburban father in...</td>\n",
       "      <td>[{\"name\": \"DreamWorks SKG\", \"id\": 27}, {\"name\"...</td>\n",
       "      <td>[{\"iso_3166_1\": \"US\", \"name\": \"United States o...</td>\n",
       "      <td>[{\"iso_639_1\": \"en\", \"name\": \"English\"}]</td>\n",
       "      <td>Look closer.</td>\n",
       "      <td>Kevin Spacey Annette Bening Thora Birch Wes Be...</td>\n",
       "      <td>[{'name': 'Thomas Newman', 'gender': 2, 'depar...</td>\n",
       "      <td>Sam Mendes</td>\n",
       "    </tr>\n",
       "  </tbody>\n",
       "</table>\n",
       "<p>5 rows × 21 columns</p>\n",
       "</div>"
      ],
      "text/plain": [
       "   Movie_ID      Movie_Title                       Movie_Genre Movie_Language  \\\n",
       "0         1       Four Rooms                      Crime Comedy             en   \n",
       "1         2        Star Wars  Adventure Action Science Fiction             en   \n",
       "2         3     Finding Nemo                  Animation Family             en   \n",
       "3         4     Forrest Gump              Comedy Drama Romance             en   \n",
       "4         5  American Beauty                             Drama             en   \n",
       "\n",
       "   Movie_Budget  Movie_Popularity Movie_Release_Date  Movie_Revenue  \\\n",
       "0       4000000         22.876230         09-12-1995        4300000   \n",
       "1      11000000        126.393695         25-05-1977      775398007   \n",
       "2      94000000         85.688789         30-05-2003      940335536   \n",
       "3      55000000        138.133331         06-07-1994      677945399   \n",
       "4      15000000         80.878605         15-09-1999      356296601   \n",
       "\n",
       "   Movie_Runtime  Movie_Vote  ...  \\\n",
       "0           98.0         6.5  ...   \n",
       "1          121.0         8.1  ...   \n",
       "2          100.0         7.6  ...   \n",
       "3          142.0         8.2  ...   \n",
       "4          122.0         7.9  ...   \n",
       "\n",
       "                                      Movie_Homepage  \\\n",
       "0                                                NaN   \n",
       "1  http://www.starwars.com/films/star-wars-episod...   \n",
       "2              http://movies.disney.com/finding-nemo   \n",
       "3                                                NaN   \n",
       "4                      http://www.dreamworks.com/ab/   \n",
       "\n",
       "                                      Movie_Keywords  \\\n",
       "0          hotel new year's eve witch bet hotel room   \n",
       "1        android galaxy hermit death star lightsaber   \n",
       "2  father son relationship harbor underwater fish...   \n",
       "3  vietnam veteran hippie mentally disabled runni...   \n",
       "4  male nudity female nudity adultery midlife cri...   \n",
       "\n",
       "                                      Movie_Overview  \\\n",
       "0  It's Ted the Bellhop's first night on the job....   \n",
       "1  Princess Leia is captured and held hostage by ...   \n",
       "2  Nemo, an adventurous young clownfish, is unexp...   \n",
       "3  A man with a low IQ has accomplished great thi...   \n",
       "4  Lester Burnham, a depressed suburban father in...   \n",
       "\n",
       "                              Movie_Production_House  \\\n",
       "0  [{\"name\": \"Miramax Films\", \"id\": 14}, {\"name\":...   \n",
       "1  [{\"name\": \"Lucasfilm\", \"id\": 1}, {\"name\": \"Twe...   \n",
       "2     [{\"name\": \"Pixar Animation Studios\", \"id\": 3}]   \n",
       "3          [{\"name\": \"Paramount Pictures\", \"id\": 4}]   \n",
       "4  [{\"name\": \"DreamWorks SKG\", \"id\": 27}, {\"name\"...   \n",
       "\n",
       "                            Movie_Production_Country  \\\n",
       "0  [{\"iso_3166_1\": \"US\", \"name\": \"United States o...   \n",
       "1  [{\"iso_3166_1\": \"US\", \"name\": \"United States o...   \n",
       "2  [{\"iso_3166_1\": \"US\", \"name\": \"United States o...   \n",
       "3  [{\"iso_3166_1\": \"US\", \"name\": \"United States o...   \n",
       "4  [{\"iso_3166_1\": \"US\", \"name\": \"United States o...   \n",
       "\n",
       "                      Movie_Spoken_Language  \\\n",
       "0  [{\"iso_639_1\": \"en\", \"name\": \"English\"}]   \n",
       "1  [{\"iso_639_1\": \"en\", \"name\": \"English\"}]   \n",
       "2  [{\"iso_639_1\": \"en\", \"name\": \"English\"}]   \n",
       "3  [{\"iso_639_1\": \"en\", \"name\": \"English\"}]   \n",
       "4  [{\"iso_639_1\": \"en\", \"name\": \"English\"}]   \n",
       "\n",
       "                                       Movie_Tagline  \\\n",
       "0  Twelve outrageous guests. Four scandalous requ...   \n",
       "1       A long time ago in a galaxy far, far away...   \n",
       "2  There are 3.7 trillion fish in the ocean, they...   \n",
       "3  The world will never be the same, once you've ...   \n",
       "4                                       Look closer.   \n",
       "\n",
       "                                          Movie_Cast  \\\n",
       "0  Tim Roth Antonio Banderas Jennifer Beals Madon...   \n",
       "1  Mark Hamill Harrison Ford Carrie Fisher Peter ...   \n",
       "2  Albert Brooks Ellen DeGeneres Alexander Gould ...   \n",
       "3  Tom Hanks Robin Wright Gary Sinise Mykelti Wil...   \n",
       "4  Kevin Spacey Annette Bening Thora Birch Wes Be...   \n",
       "\n",
       "                                          Movie_Crew   Movie_Director  \n",
       "0  [{'name': 'Allison Anders', 'gender': 1, 'depa...   Allison Anders  \n",
       "1  [{'name': 'George Lucas', 'gender': 2, 'depart...     George Lucas  \n",
       "2  [{'name': 'Andrew Stanton', 'gender': 2, 'depa...   Andrew Stanton  \n",
       "3  [{'name': 'Alan Silvestri', 'gender': 2, 'depa...  Robert Zemeckis  \n",
       "4  [{'name': 'Thomas Newman', 'gender': 2, 'depar...       Sam Mendes  \n",
       "\n",
       "[5 rows x 21 columns]"
      ]
     },
     "execution_count": 4,
     "metadata": {},
     "output_type": "execute_result"
    }
   ],
   "source": [
    "Data=pd.read_csv('Movies_Recommendation.csv')\n",
    "Data.head()"
   ]
  },
  {
   "cell_type": "markdown",
   "metadata": {
    "id": "7PUnimBoiX-x"
   },
   "source": [
    "## **Describe Data**"
   ]
  },
  {
   "cell_type": "code",
   "execution_count": 5,
   "metadata": {
    "id": "kG15arusiZ8Z"
   },
   "outputs": [
    {
     "name": "stdout",
     "output_type": "stream",
     "text": [
      "<class 'pandas.core.frame.DataFrame'>\n",
      "RangeIndex: 4760 entries, 0 to 4759\n",
      "Data columns (total 21 columns):\n",
      " #   Column                    Non-Null Count  Dtype  \n",
      "---  ------                    --------------  -----  \n",
      " 0   Movie_ID                  4760 non-null   int64  \n",
      " 1   Movie_Title               4760 non-null   object \n",
      " 2   Movie_Genre               4760 non-null   object \n",
      " 3   Movie_Language            4760 non-null   object \n",
      " 4   Movie_Budget              4760 non-null   int64  \n",
      " 5   Movie_Popularity          4760 non-null   float64\n",
      " 6   Movie_Release_Date        4760 non-null   object \n",
      " 7   Movie_Revenue             4760 non-null   int64  \n",
      " 8   Movie_Runtime             4758 non-null   float64\n",
      " 9   Movie_Vote                4760 non-null   float64\n",
      " 10  Movie_Vote_Count          4760 non-null   int64  \n",
      " 11  Movie_Homepage            1699 non-null   object \n",
      " 12  Movie_Keywords            4373 non-null   object \n",
      " 13  Movie_Overview            4757 non-null   object \n",
      " 14  Movie_Production_House    4760 non-null   object \n",
      " 15  Movie_Production_Country  4760 non-null   object \n",
      " 16  Movie_Spoken_Language     4760 non-null   object \n",
      " 17  Movie_Tagline             3942 non-null   object \n",
      " 18  Movie_Cast                4733 non-null   object \n",
      " 19  Movie_Crew                4760 non-null   object \n",
      " 20  Movie_Director            4738 non-null   object \n",
      "dtypes: float64(3), int64(4), object(14)\n",
      "memory usage: 781.1+ KB\n"
     ]
    }
   ],
   "source": [
    "Data.info()"
   ]
  },
  {
   "cell_type": "code",
   "execution_count": 9,
   "metadata": {},
   "outputs": [
    {
     "data": {
      "text/plain": [
       "(4760, 21)"
      ]
     },
     "execution_count": 9,
     "metadata": {},
     "output_type": "execute_result"
    }
   ],
   "source": [
    "Data.shape"
   ]
  },
  {
   "cell_type": "code",
   "execution_count": 10,
   "metadata": {},
   "outputs": [
    {
     "data": {
      "text/plain": [
       "Index(['Movie_ID', 'Movie_Title', 'Movie_Genre', 'Movie_Language',\n",
       "       'Movie_Budget', 'Movie_Popularity', 'Movie_Release_Date',\n",
       "       'Movie_Revenue', 'Movie_Runtime', 'Movie_Vote', 'Movie_Vote_Count',\n",
       "       'Movie_Homepage', 'Movie_Keywords', 'Movie_Overview',\n",
       "       'Movie_Production_House', 'Movie_Production_Country',\n",
       "       'Movie_Spoken_Language', 'Movie_Tagline', 'Movie_Cast', 'Movie_Crew',\n",
       "       'Movie_Director'],\n",
       "      dtype='object')"
      ]
     },
     "execution_count": 10,
     "metadata": {},
     "output_type": "execute_result"
    }
   ],
   "source": [
    "Data.columns"
   ]
  },
  {
   "cell_type": "markdown",
   "metadata": {
    "id": "UqfyPOCYiiww"
   },
   "source": [
    "## **Data Preprocessing**"
   ]
  },
  {
   "cell_type": "markdown",
   "metadata": {
    "id": "3cyr3fbGin0A"
   },
   "source": [
    "### Feature Selection"
   ]
  },
  {
   "cell_type": "code",
   "execution_count": 12,
   "metadata": {},
   "outputs": [],
   "source": [
    "df_features = Data[['Movie_Genre','Movie_Keywords','Movie_Tagline','Movie_Cast','Movie_Director']].fillna('')"
   ]
  },
  {
   "cell_type": "code",
   "execution_count": 14,
   "metadata": {},
   "outputs": [
    {
     "data": {
      "text/html": [
       "<div>\n",
       "<style scoped>\n",
       "    .dataframe tbody tr th:only-of-type {\n",
       "        vertical-align: middle;\n",
       "    }\n",
       "\n",
       "    .dataframe tbody tr th {\n",
       "        vertical-align: top;\n",
       "    }\n",
       "\n",
       "    .dataframe thead th {\n",
       "        text-align: right;\n",
       "    }\n",
       "</style>\n",
       "<table border=\"1\" class=\"dataframe\">\n",
       "  <thead>\n",
       "    <tr style=\"text-align: right;\">\n",
       "      <th></th>\n",
       "      <th>Movie_Genre</th>\n",
       "      <th>Movie_Keywords</th>\n",
       "      <th>Movie_Tagline</th>\n",
       "      <th>Movie_Cast</th>\n",
       "      <th>Movie_Director</th>\n",
       "    </tr>\n",
       "  </thead>\n",
       "  <tbody>\n",
       "    <tr>\n",
       "      <th>0</th>\n",
       "      <td>Crime Comedy</td>\n",
       "      <td>hotel new year's eve witch bet hotel room</td>\n",
       "      <td>Twelve outrageous guests. Four scandalous requ...</td>\n",
       "      <td>Tim Roth Antonio Banderas Jennifer Beals Madon...</td>\n",
       "      <td>Allison Anders</td>\n",
       "    </tr>\n",
       "    <tr>\n",
       "      <th>1</th>\n",
       "      <td>Adventure Action Science Fiction</td>\n",
       "      <td>android galaxy hermit death star lightsaber</td>\n",
       "      <td>A long time ago in a galaxy far, far away...</td>\n",
       "      <td>Mark Hamill Harrison Ford Carrie Fisher Peter ...</td>\n",
       "      <td>George Lucas</td>\n",
       "    </tr>\n",
       "    <tr>\n",
       "      <th>2</th>\n",
       "      <td>Animation Family</td>\n",
       "      <td>father son relationship harbor underwater fish...</td>\n",
       "      <td>There are 3.7 trillion fish in the ocean, they...</td>\n",
       "      <td>Albert Brooks Ellen DeGeneres Alexander Gould ...</td>\n",
       "      <td>Andrew Stanton</td>\n",
       "    </tr>\n",
       "    <tr>\n",
       "      <th>3</th>\n",
       "      <td>Comedy Drama Romance</td>\n",
       "      <td>vietnam veteran hippie mentally disabled runni...</td>\n",
       "      <td>The world will never be the same, once you've ...</td>\n",
       "      <td>Tom Hanks Robin Wright Gary Sinise Mykelti Wil...</td>\n",
       "      <td>Robert Zemeckis</td>\n",
       "    </tr>\n",
       "    <tr>\n",
       "      <th>4</th>\n",
       "      <td>Drama</td>\n",
       "      <td>male nudity female nudity adultery midlife cri...</td>\n",
       "      <td>Look closer.</td>\n",
       "      <td>Kevin Spacey Annette Bening Thora Birch Wes Be...</td>\n",
       "      <td>Sam Mendes</td>\n",
       "    </tr>\n",
       "  </tbody>\n",
       "</table>\n",
       "</div>"
      ],
      "text/plain": [
       "                        Movie_Genre  \\\n",
       "0                      Crime Comedy   \n",
       "1  Adventure Action Science Fiction   \n",
       "2                  Animation Family   \n",
       "3              Comedy Drama Romance   \n",
       "4                             Drama   \n",
       "\n",
       "                                      Movie_Keywords  \\\n",
       "0          hotel new year's eve witch bet hotel room   \n",
       "1        android galaxy hermit death star lightsaber   \n",
       "2  father son relationship harbor underwater fish...   \n",
       "3  vietnam veteran hippie mentally disabled runni...   \n",
       "4  male nudity female nudity adultery midlife cri...   \n",
       "\n",
       "                                       Movie_Tagline  \\\n",
       "0  Twelve outrageous guests. Four scandalous requ...   \n",
       "1       A long time ago in a galaxy far, far away...   \n",
       "2  There are 3.7 trillion fish in the ocean, they...   \n",
       "3  The world will never be the same, once you've ...   \n",
       "4                                       Look closer.   \n",
       "\n",
       "                                          Movie_Cast   Movie_Director  \n",
       "0  Tim Roth Antonio Banderas Jennifer Beals Madon...   Allison Anders  \n",
       "1  Mark Hamill Harrison Ford Carrie Fisher Peter ...     George Lucas  \n",
       "2  Albert Brooks Ellen DeGeneres Alexander Gould ...   Andrew Stanton  \n",
       "3  Tom Hanks Robin Wright Gary Sinise Mykelti Wil...  Robert Zemeckis  \n",
       "4  Kevin Spacey Annette Bening Thora Birch Wes Be...       Sam Mendes  "
      ]
     },
     "execution_count": 14,
     "metadata": {},
     "output_type": "execute_result"
    }
   ],
   "source": [
    "df_features.head()"
   ]
  },
  {
   "cell_type": "code",
   "execution_count": 15,
   "metadata": {},
   "outputs": [
    {
     "data": {
      "text/plain": [
       "(4760, 5)"
      ]
     },
     "execution_count": 15,
     "metadata": {},
     "output_type": "execute_result"
    }
   ],
   "source": [
    "df_features.shape"
   ]
  },
  {
   "cell_type": "markdown",
   "metadata": {
    "id": "2jXJpdAuiwYW"
   },
   "source": [
    "## **Define Feature Variables (X)**"
   ]
  },
  {
   "cell_type": "code",
   "execution_count": 16,
   "metadata": {
    "id": "QBCakTuli57t"
   },
   "outputs": [],
   "source": [
    "x = df_features['Movie_Genre'] + ' ' + df_features['Movie_Keywords'] + ' ' + df_features['Movie_Tagline'] + ' ' + df_features['Movie_Cast'] + ' ' +df_features['Movie_Director']"
   ]
  },
  {
   "cell_type": "code",
   "execution_count": 17,
   "metadata": {},
   "outputs": [
    {
     "data": {
      "text/plain": [
       "0    Crime Comedy hotel new year's eve witch bet ho...\n",
       "1    Adventure Action Science Fiction android galax...\n",
       "2    Animation Family father son relationship harbo...\n",
       "3    Comedy Drama Romance vietnam veteran hippie me...\n",
       "4    Drama male nudity female nudity adultery midli...\n",
       "dtype: object"
      ]
     },
     "execution_count": 17,
     "metadata": {},
     "output_type": "execute_result"
    }
   ],
   "source": [
    "x.head()"
   ]
  },
  {
   "cell_type": "code",
   "execution_count": 18,
   "metadata": {},
   "outputs": [
    {
     "data": {
      "text/plain": [
       "(4760,)"
      ]
     },
     "execution_count": 18,
     "metadata": {},
     "output_type": "execute_result"
    }
   ],
   "source": [
    "x.shape"
   ]
  },
  {
   "cell_type": "markdown",
   "metadata": {
    "id": "90_0q_Pbi658"
   },
   "source": [
    "## Features Text Conversion to Tokens"
   ]
  },
  {
   "cell_type": "code",
   "execution_count": 19,
   "metadata": {
    "id": "u60YYaOFi-Dw"
   },
   "outputs": [],
   "source": [
    "from sklearn.feature_extraction.text import TfidfVectorizer"
   ]
  },
  {
   "cell_type": "code",
   "execution_count": 20,
   "metadata": {},
   "outputs": [],
   "source": [
    "tfidf = TfidfVectorizer()\n",
    "x = tfidf.fit_transform(x)"
   ]
  },
  {
   "cell_type": "code",
   "execution_count": 21,
   "metadata": {},
   "outputs": [
    {
     "data": {
      "text/plain": [
       "(4760, 17258)"
      ]
     },
     "execution_count": 21,
     "metadata": {},
     "output_type": "execute_result"
    }
   ],
   "source": [
    "x.shape"
   ]
  },
  {
   "cell_type": "markdown",
   "metadata": {
    "id": "cIhyseNria7W"
   },
   "source": [
    "## Obtain the similarity score using Cosine Similarity"
   ]
  },
  {
   "cell_type": "code",
   "execution_count": 22,
   "metadata": {
    "id": "Toq58wpkjCw7"
   },
   "outputs": [],
   "source": [
    "from sklearn.metrics.pairwise import cosine_similarity\n",
    "Similarity_Score = cosine_similarity(x)"
   ]
  },
  {
   "cell_type": "code",
   "execution_count": 23,
   "metadata": {},
   "outputs": [
    {
     "data": {
      "text/plain": [
       "array([[1.        , 0.01351235, 0.03570468, ..., 0.        , 0.        ,\n",
       "        0.        ],\n",
       "       [0.01351235, 1.        , 0.00806674, ..., 0.        , 0.        ,\n",
       "        0.        ],\n",
       "       [0.03570468, 0.00806674, 1.        , ..., 0.        , 0.08014876,\n",
       "        0.        ],\n",
       "       ...,\n",
       "       [0.        , 0.        , 0.        , ..., 1.        , 0.        ,\n",
       "        0.        ],\n",
       "       [0.        , 0.        , 0.08014876, ..., 0.        , 1.        ,\n",
       "        0.        ],\n",
       "       [0.        , 0.        , 0.        , ..., 0.        , 0.        ,\n",
       "        1.        ]])"
      ]
     },
     "execution_count": 23,
     "metadata": {},
     "output_type": "execute_result"
    }
   ],
   "source": [
    "Similarity_Score"
   ]
  },
  {
   "cell_type": "code",
   "execution_count": 24,
   "metadata": {},
   "outputs": [
    {
     "data": {
      "text/plain": [
       "(4760, 4760)"
      ]
     },
     "execution_count": 24,
     "metadata": {},
     "output_type": "execute_result"
    }
   ],
   "source": [
    "Similarity_Score.shape"
   ]
  },
  {
   "cell_type": "markdown",
   "metadata": {},
   "source": [
    "### Get the user name from the user & validate for closest spelling"
   ]
  },
  {
   "cell_type": "code",
   "execution_count": 29,
   "metadata": {},
   "outputs": [
    {
     "name": "stdout",
     "output_type": "stream",
     "text": [
      " Enter your favourite movie name :spider man\n"
     ]
    }
   ],
   "source": [
    "Favourite_Movie_Name = input(' Enter your favourite movie name :')"
   ]
  },
  {
   "cell_type": "code",
   "execution_count": 30,
   "metadata": {},
   "outputs": [],
   "source": [
    "All_Movies_Title_List = Data['Movie_Title'].tolist()"
   ]
  },
  {
   "cell_type": "code",
   "execution_count": 31,
   "metadata": {},
   "outputs": [
    {
     "name": "stdout",
     "output_type": "stream",
     "text": [
      "['Spider-Man', 'Inside Man', 'Superman']\n"
     ]
    }
   ],
   "source": [
    "Movie_Recommendation = difflib.get_close_matches(Favourite_Movie_Name, All_Movies_Title_List)\n",
    "print(Movie_Recommendation)"
   ]
  },
  {
   "cell_type": "code",
   "execution_count": 32,
   "metadata": {},
   "outputs": [
    {
     "name": "stdout",
     "output_type": "stream",
     "text": [
      "Spider-Man\n"
     ]
    }
   ],
   "source": [
    "Close_Match = Movie_Recommendation[0]\n",
    "print(Close_Match)"
   ]
  },
  {
   "cell_type": "code",
   "execution_count": 33,
   "metadata": {},
   "outputs": [
    {
     "name": "stdout",
     "output_type": "stream",
     "text": [
      "231\n"
     ]
    }
   ],
   "source": [
    "Index_of_Close_Match_Movie = Data[Data.Movie_Title == Close_Match]['Movie_ID'].values[0]\n",
    "print(Index_of_Close_Match_Movie)"
   ]
  },
  {
   "cell_type": "code",
   "execution_count": 34,
   "metadata": {},
   "outputs": [],
   "source": [
    "Recommendation_Score = list(enumerate(Similarity_Score[Index_of_Close_Match_Movie]))"
   ]
  },
  {
   "cell_type": "markdown",
   "metadata": {
    "id": "vhAwWfG0jFun"
   },
   "source": [
    "## **Model Evaluation**"
   ]
  },
  {
   "cell_type": "markdown",
   "metadata": {},
   "source": [
    "### Predict the top 10 movie suggestions:"
   ]
  },
  {
   "cell_type": "code",
   "execution_count": 36,
   "metadata": {
    "id": "lND3jJj_jhx4"
   },
   "outputs": [
    {
     "name": "stdout",
     "output_type": "stream",
     "text": [
      "Enter Your Favourite Movie Name: spider man\n",
      "Top 10 Movies Suggested For You : \n",
      "\n",
      "1 . ['Spider-Man']\n",
      "2 . ['Spider-Man 2']\n",
      "3 . ['Fight Club']\n",
      "4 . [\"Mozart's Sister\"]\n",
      "5 . ['Robin and Marian']\n",
      "6 . ['Katy Perry: Part of Me']\n",
      "7 . ['Elysium']\n",
      "8 . ['Chicken Run']\n",
      "9 . ['Corky Romano']\n",
      "10 . ['Teenage Mutant Ninja Turtles']\n"
     ]
    }
   ],
   "source": [
    "import difflib\n",
    "Movie_Name = input('Enter Your Favourite Movie Name: ')\n",
    "\n",
    "list_of_all_titles = Data['Movie_Title'].tolist()\n",
    "\n",
    "Find_Close_Match = difflib.get_close_matches(Movie_Name, list_of_all_titles)\n",
    "\n",
    "Close_Match = Find_Close_Match[0]\n",
    "\n",
    "Index_of_Movie = Data[Data.Movie_Title == Close_Match]['Movie_ID'].values[0]\n",
    "\n",
    "Recommendation_Score = list(enumerate(Similarity_Score[Index_of_Movie]))\n",
    "\n",
    "sorted_similar_movies = sorted(Recommendation_Score, key = lambda x:x[1], reverse = True)\n",
    "\n",
    "print('Top 10 Movies Suggested For You : \\n')\n",
    "\n",
    "i = 1\n",
    "for movie in sorted_similar_movies:\n",
    "    index = movie[0]\n",
    "    title_from_index = Data[Data.Movie_ID==index]['Movie_Title'].values\n",
    "    if (i<11):\n",
    "        print(i, '.',title_from_index)\n",
    "        i+=1"
   ]
  }
 ],
 "metadata": {
  "colab": {
   "authorship_tag": "ABX9TyPZl4d0nA5Qmq8X1mDqSb1O",
   "name": "Project Outline.ipynb",
   "provenance": []
  },
  "kernelspec": {
   "display_name": "Python 3 (ipykernel)",
   "language": "python",
   "name": "python3"
  },
  "language_info": {
   "codemirror_mode": {
    "name": "ipython",
    "version": 3
   },
   "file_extension": ".py",
   "mimetype": "text/x-python",
   "name": "python",
   "nbconvert_exporter": "python",
   "pygments_lexer": "ipython3",
   "version": "3.10.9"
  }
 },
 "nbformat": 4,
 "nbformat_minor": 1
}
